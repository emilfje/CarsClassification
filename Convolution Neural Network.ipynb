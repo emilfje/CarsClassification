{
 "cells": [
  {
   "cell_type": "code",
   "execution_count": 1,
   "id": "designing-trash",
   "metadata": {},
   "outputs": [],
   "source": [
    "# Import all libraries needed for the tutorial\n",
    "import pandas as pd \n",
    "import numpy as np\n",
    "import os\n",
    "import math\n",
    "import tensorflow as tf\n",
    "\n",
    "from tensorflow.keras import datasets, layers, models\n",
    "import matplotlib.pyplot as plt\n",
    "\n",
    "from pandas import DataFrame, read_csv\n",
    "\n",
    "from keras.models import Sequential\n",
    "from keras.layers import Dense\n",
    "from keras.layers import Activation\n",
    "from keras.layers import Dropout\n",
    "from keras.layers import Flatten\n",
    "from keras.constraints import maxnorm\n",
    "from keras.optimizers import SGD\n",
    "from keras.optimizers import Adam\n",
    "from keras.layers.convolutional import Convolution2D\n",
    "from keras.layers.convolutional import MaxPooling2D\n",
    "from keras.utils import np_utils\n",
    "\n",
    "from PIL import Image # to read images\n",
    "\n",
    "import cv2\n",
    "import scipy.io"
   ]
  },
  {
   "cell_type": "code",
   "execution_count": 2,
   "id": "patient-harbor",
   "metadata": {},
   "outputs": [
    {
     "name": "stdout",
     "output_type": "stream",
     "text": [
      "1 Physical GPUs, 1 Logical GPUs\n",
      "2.4.1\n"
     ]
    }
   ],
   "source": [
    "#Prolly use sparse_categorical_crossentropy\n",
    "#| Convolution + relu | pooling | Convolution + relu | pooling | flatten | BOOM\n",
    "#Testa med IMG_SIZE = 64 och med 128\n",
    "\n",
    "if 'session' in locals() and session is not None:\n",
    "    print('Close interactive session')\n",
    "    session.close()\n",
    "\n",
    "gpus = tf.config.list_physical_devices('GPU')\n",
    "if gpus:\n",
    "  # Restrict TensorFlow to only allocate 1GB of memory on the first GPU\n",
    "  try:\n",
    "    tf.config.experimental.set_virtual_device_configuration(\n",
    "        gpus[0],\n",
    "        [tf.config.experimental.VirtualDeviceConfiguration(memory_limit=4096)])\n",
    "    logical_gpus = tf.config.experimental.list_logical_devices('GPU')\n",
    "    print(len(gpus), \"Physical GPUs,\", len(logical_gpus), \"Logical GPUs\")\n",
    "  except RuntimeError as e:\n",
    "    # Virtual devices must be set before GPUs have been initialized\n",
    "    print(e)\n",
    "print(tf.__version__)\n",
    "\n",
    "##Cnn\n",
    "#adam = Adam()"
   ]
  },
  {
   "cell_type": "code",
   "execution_count": 3,
   "id": "measured-courtesy",
   "metadata": {},
   "outputs": [],
   "source": [
    "DATADIR = \"D:/car_devkit/\"\n",
    "CATEGORIES = [\"croped_train\"]\n",
    "TEST_CATEGORIES = [\"croped_test\"]\n",
    "IMG_SIZE = 64\n",
    "IMG_SIZE_X = IMG_SIZE*2"
   ]
  },
  {
   "cell_type": "markdown",
   "id": "skilled-afternoon",
   "metadata": {},
   "source": [
    "## Load all the training images"
   ]
  },
  {
   "cell_type": "code",
   "execution_count": 4,
   "id": "attempted-rachel",
   "metadata": {},
   "outputs": [],
   "source": [
    "training_data = []\n",
    "\n",
    "def create_training_data():\n",
    "    for category in CATEGORIES:\n",
    "        path_training = os.path.join(DATADIR, category)\n",
    "        for img in os.listdir(path_training):\n",
    "            try:\n",
    "                img_array_training = cv2.imread(os.path.join(path_training,img), cv2.IMREAD_GRAYSCALE)\n",
    "                new_array_training = cv2.resize(img_array_training, (IMG_SIZE_X, IMG_SIZE))\n",
    "                training_data.append([new_array_training, img])\n",
    "            except Exception as e:\n",
    "                pass\n",
    "\n",
    "create_training_data()"
   ]
  },
  {
   "cell_type": "markdown",
   "id": "french-processing",
   "metadata": {},
   "source": [
    "## Load all the test images"
   ]
  },
  {
   "cell_type": "code",
   "execution_count": 5,
   "id": "geographic-principle",
   "metadata": {},
   "outputs": [],
   "source": [
    "test_data = []\n",
    "\n",
    "def create_test_data():\n",
    "    for category in TEST_CATEGORIES:\n",
    "        path_test = os.path.join(DATADIR, category)\n",
    "        for img in os.listdir(path_test):\n",
    "            try:\n",
    "                img_array_test = cv2.imread(os.path.join(path_test, img), cv2.IMREAD_GRAYSCALE)\n",
    "                new_array_test = cv2.resize(img_array_test, (IMG_SIZE_X, IMG_SIZE))\n",
    "                test_data.append([new_array_test, img])\n",
    "            except Exception as e:\n",
    "                pass\n",
    "\n",
    "create_test_data()"
   ]
  },
  {
   "cell_type": "markdown",
   "id": "northern-adams",
   "metadata": {},
   "source": [
    "## Define all the functions needed"
   ]
  },
  {
   "cell_type": "code",
   "execution_count": 6,
   "id": "tested-falls",
   "metadata": {},
   "outputs": [],
   "source": [
    "X_Train = []\n",
    "\n",
    "def prepare_X_Train():\n",
    "    for i in range(len(training_data)):\n",
    "        X_Train.append(training_data[i][0])\n"
   ]
  },
  {
   "cell_type": "code",
   "execution_count": 7,
   "id": "treated-asbestos",
   "metadata": {},
   "outputs": [],
   "source": [
    "X_Test = []\n",
    "\n",
    "def prepare_X_Test():\n",
    "    for i in range(len(test_data)):\n",
    "        X_Test.append(test_data[i][0])\n"
   ]
  },
  {
   "cell_type": "markdown",
   "id": "satellite-electronics",
   "metadata": {},
   "source": [
    "## Loads the diffenrent car models into an array"
   ]
  },
  {
   "cell_type": "code",
   "execution_count": 8,
   "id": "oriental-anderson",
   "metadata": {},
   "outputs": [],
   "source": [
    "def load_class_names():\n",
    "    names = []\n",
    "    for i in mat_class_names:\n",
    "        names.append(i[0])    \n",
    "    return names"
   ]
  },
  {
   "cell_type": "markdown",
   "id": "occupational-venezuela",
   "metadata": {},
   "source": [
    "## Prepare the y_train data"
   ]
  },
  {
   "cell_type": "code",
   "execution_count": 9,
   "id": "noble-clinton",
   "metadata": {},
   "outputs": [],
   "source": [
    "def prepare_y_train():\n",
    "    for i in range(len(mat_train_annos)):\n",
    "        y_train.append(mat_train_annos[i][4][0][0])"
   ]
  },
  {
   "cell_type": "markdown",
   "id": "absent-annotation",
   "metadata": {},
   "source": [
    "## Prepare the y_test data"
   ]
  },
  {
   "cell_type": "code",
   "execution_count": 10,
   "id": "stuck-interface",
   "metadata": {},
   "outputs": [],
   "source": [
    "def prepare_y_test():\n",
    "    for i in range(len(mat_test_annos_labels)):\n",
    "        y_test.append(mat_test_annos_labels[i][4][0][0])"
   ]
  },
  {
   "cell_type": "markdown",
   "id": "catholic-orleans",
   "metadata": {},
   "source": [
    "## Load and reshape all the metadata"
   ]
  },
  {
   "cell_type": "code",
   "execution_count": 11,
   "id": "linear-institution",
   "metadata": {},
   "outputs": [
    {
     "name": "stdout",
     "output_type": "stream",
     "text": [
      "X_Train shape:  (8144, 64, 128, 1)\n",
      "y_train shape:  (8144,)\n"
     ]
    }
   ],
   "source": [
    "mat = scipy.io.loadmat('D:/car_devkit/devkit/cars_meta.mat')\n",
    "mat_test_annos = scipy.io.loadmat('D:/car_devkit/devkit/cars_test_annos.mat')\n",
    "mat_train_annos = scipy.io.loadmat('D:/car_devkit/devkit/cars_train_annos.mat')\n",
    "mat_test_annos_labels = scipy.io.loadmat('D:/car_devkit/devkit/cars_test_annos_withlabels.mat')\n",
    "\n",
    "mat_class_names = np.array(mat[\"class_names\"])\n",
    "mat_class_names = mat_class_names.reshape(-1,)\n",
    "\n",
    "mat_test_annos = mat_test_annos[\"annotations\"]\n",
    "mat_test_annos = mat_test_annos.reshape(-1,)\n",
    "\n",
    "mat_train_annos = mat_train_annos[\"annotations\"]\n",
    "mat_train_annos = mat_train_annos.reshape(-1,)\n",
    "\n",
    "mat_test_annos_labels = mat_test_annos_labels[\"annotations\"]\n",
    "mat_test_annos_labels = mat_test_annos_labels.reshape(-1,)\n",
    "\n",
    "names = load_class_names()\n",
    "names\n",
    "\n",
    "y_train = []\n",
    "y_test = []\n",
    "\n",
    "prepare_y_train()\n",
    "prepare_y_test()\n",
    "\n",
    "y_train = np.array(y_train)\n",
    "#y_train = np_utils.to_categorical(y_train)   #This is needed to run categorical_crossentrpy\n",
    "y_train\n",
    "\n",
    "y_test = np.array(y_test)\n",
    "#y_test = np_utils.to_categorical(y_test)     #This is needed to run categorical_crossentrpy\n",
    "#num_classes = y_test.shape[1]                #This is needed to run categorical_crossentrpy\n",
    "num_classes = 197                             #Comment this line out to run categorical_crossentrpy\n",
    "\n",
    "prepare_X_Train()\n",
    "prepare_X_Test()\n",
    "\n",
    "X_Train = np.array(X_Train).astype('float32')\n",
    "X_Test = np.array(X_Test).astype('float32')\n",
    "X_Train = X_Train / 255.0\n",
    "X_Test = X_Test / 255.0\n",
    "\n",
    "X_Train = tf.expand_dims(X_Train, axis=-1)\n",
    "X_Test = tf.expand_dims(X_Test, axis=-1)\n",
    "print(\"X_Train shape: \",X_Train.shape)\n",
    "print(\"y_train shape: \", y_train.shape)"
   ]
  },
  {
   "cell_type": "markdown",
   "id": "mathematical-automation",
   "metadata": {},
   "source": [
    "## Here we do model things... MAD TINGS"
   ]
  },
  {
   "cell_type": "code",
   "execution_count": 41,
   "id": "emerging-chase",
   "metadata": {
    "scrolled": true
   },
   "outputs": [
    {
     "name": "stdout",
     "output_type": "stream",
     "text": [
      "Model: \"sequential_13\"\n",
      "_________________________________________________________________\n",
      "Layer (type)                 Output Shape              Param #   \n",
      "=================================================================\n",
      "conv2d_52 (Conv2D)           (None, 64, 128, 64)       640       \n",
      "_________________________________________________________________\n",
      "activation_65 (Activation)   (None, 64, 128, 64)       0         \n",
      "_________________________________________________________________\n",
      "max_pooling2d_52 (MaxPooling (None, 32, 64, 64)        0         \n",
      "_________________________________________________________________\n",
      "dropout_65 (Dropout)         (None, 32, 64, 64)        0         \n",
      "_________________________________________________________________\n",
      "conv2d_53 (Conv2D)           (None, 32, 64, 64)        36928     \n",
      "_________________________________________________________________\n",
      "activation_66 (Activation)   (None, 32, 64, 64)        0         \n",
      "_________________________________________________________________\n",
      "max_pooling2d_53 (MaxPooling (None, 16, 32, 64)        0         \n",
      "_________________________________________________________________\n",
      "dropout_66 (Dropout)         (None, 16, 32, 64)        0         \n",
      "_________________________________________________________________\n",
      "conv2d_54 (Conv2D)           (None, 16, 32, 128)       73856     \n",
      "_________________________________________________________________\n",
      "activation_67 (Activation)   (None, 16, 32, 128)       0         \n",
      "_________________________________________________________________\n",
      "max_pooling2d_54 (MaxPooling (None, 8, 16, 128)        0         \n",
      "_________________________________________________________________\n",
      "dropout_67 (Dropout)         (None, 8, 16, 128)        0         \n",
      "_________________________________________________________________\n",
      "conv2d_55 (Conv2D)           (None, 8, 16, 128)        65664     \n",
      "_________________________________________________________________\n",
      "activation_68 (Activation)   (None, 8, 16, 128)        0         \n",
      "_________________________________________________________________\n",
      "max_pooling2d_55 (MaxPooling (None, 4, 8, 128)         0         \n",
      "_________________________________________________________________\n",
      "flatten_13 (Flatten)         (None, 4096)              0         \n",
      "_________________________________________________________________\n",
      "dense_39 (Dense)             (None, 512)               2097664   \n",
      "_________________________________________________________________\n",
      "dropout_68 (Dropout)         (None, 512)               0         \n",
      "_________________________________________________________________\n",
      "dense_40 (Dense)             (None, 256)               131328    \n",
      "_________________________________________________________________\n",
      "dropout_69 (Dropout)         (None, 256)               0         \n",
      "_________________________________________________________________\n",
      "dense_41 (Dense)             (None, 197)               50629     \n",
      "_________________________________________________________________\n",
      "activation_69 (Activation)   (None, 197)               0         \n",
      "=================================================================\n",
      "Total params: 2,456,709\n",
      "Trainable params: 2,456,709\n",
      "Non-trainable params: 0\n",
      "_________________________________________________________________\n",
      "None\n",
      "CNN Model created.\n"
     ]
    }
   ],
   "source": [
    "def createCNNModel(num_classes):\n",
    "    \n",
    "    ##Dropout might help with overfitting in smaller datasets.\n",
    "    # Create the model   \n",
    "    model = Sequential()\n",
    "    \n",
    "    model.add(Convolution2D(64, (3, 3), input_shape=X_Train.shape[1:], padding='same')) #64\n",
    "    model.add(Activation(\"swish\"))\n",
    "    model.add(MaxPooling2D(pool_size=(2, 2)))\n",
    "    \n",
    "    model.add(Dropout(0.55))  #55\n",
    "    \n",
    "    model.add(Convolution2D(64, (3,3), padding='same')) #64\n",
    "    model.add(Activation(\"swish\"))\n",
    "    model.add(MaxPooling2D(pool_size=(2, 2)))\n",
    "\n",
    "    model.add(Dropout(0.55)) #55\n",
    "    \n",
    "    model.add(Convolution2D(128, (3, 3), padding='same')) #128\n",
    "    model.add(Activation(\"swish\"))\n",
    "    model.add(MaxPooling2D(pool_size=(2, 2)))\n",
    "  \n",
    "    model.add(Dropout(0.55)) #55\n",
    "    \n",
    "    model.add(Convolution2D(128, (2, 2), padding='same')) #128\n",
    "    model.add(Activation(\"swish\"))\n",
    "    model.add(MaxPooling2D(pool_size=(2, 2)))\n",
    "\n",
    "    model.add(Flatten())  # this converts our 3D feature maps to 1D feature vectors\n",
    "    \n",
    "    #I've noticed that changes to these two last dropouts has the biggest impact on the learning rate\n",
    "    model.add(Dense(512))   #Computes the dot product between the inputs and the kernel\n",
    "    model.add(Dropout(0.5)) #5\n",
    "    model.add(Dense(256))\n",
    "    model.add(Dropout(0.8)) #8\n",
    "    \n",
    "    model.add(Dense(num_classes))\n",
    "    model.add(Activation('softmax'))\n",
    "    # Compile model\n",
    "    epochs = 50\n",
    "\n",
    "    adam = Adam(\n",
    "        learning_rate=0.001, \n",
    "        beta_1=0.9,\n",
    "        beta_2=0.999,\n",
    "        epsilon=1e-07, \n",
    "        amsgrad=True)\n",
    "    model.compile(loss='sparse_categorical_crossentropy', optimizer=adam, metrics=['accuracy'])\n",
    "    print(model.summary())\n",
    "    return model, epochs\n",
    "\n",
    "# create our CNN model\n",
    "model, epochs = createCNNModel(num_classes)\n",
    "print(\"CNN Model created.\")"
   ]
  },
  {
   "cell_type": "code",
   "execution_count": 43,
   "id": "hawaiian-little",
   "metadata": {
    "scrolled": false
   },
   "outputs": [
    {
     "name": "stdout",
     "output_type": "stream",
     "text": [
      "Epoch 1/50\n",
      "22/22 [==============================] - 8s 340ms/step - loss: 5.2887 - accuracy: 0.0041 - val_loss: 5.2824 - val_accuracy: 0.0049\n",
      "Epoch 2/50\n",
      "22/22 [==============================] - 7s 314ms/step - loss: 5.2842 - accuracy: 0.0056 - val_loss: 5.2780 - val_accuracy: 0.0066\n",
      "Epoch 3/50\n",
      "22/22 [==============================] - 7s 318ms/step - loss: 5.2786 - accuracy: 0.0066 - val_loss: 5.2633 - val_accuracy: 0.0102\n",
      "Epoch 4/50\n",
      "22/22 [==============================] - 7s 316ms/step - loss: 5.2584 - accuracy: 0.0086 - val_loss: 5.2284 - val_accuracy: 0.0155\n",
      "Epoch 5/50\n",
      "22/22 [==============================] - 7s 314ms/step - loss: 5.2290 - accuracy: 0.0108 - val_loss: 5.1813 - val_accuracy: 0.0182\n",
      "Epoch 6/50\n",
      "22/22 [==============================] - 7s 321ms/step - loss: 5.1907 - accuracy: 0.0139 - val_loss: 5.1342 - val_accuracy: 0.0192\n",
      "Epoch 7/50\n",
      "22/22 [==============================] - 7s 331ms/step - loss: 5.1471 - accuracy: 0.0144 - val_loss: 5.1143 - val_accuracy: 0.0173\n",
      "Epoch 8/50\n",
      "22/22 [==============================] - 7s 328ms/step - loss: 5.1079 - accuracy: 0.0190 - val_loss: 5.0770 - val_accuracy: 0.0209\n",
      "Epoch 9/50\n",
      "22/22 [==============================] - 7s 325ms/step - loss: 5.0391 - accuracy: 0.0249 - val_loss: 5.0287 - val_accuracy: 0.0285\n",
      "Epoch 10/50\n",
      "22/22 [==============================] - 7s 326ms/step - loss: 4.9858 - accuracy: 0.0276 - val_loss: 4.9273 - val_accuracy: 0.0377\n",
      "Epoch 11/50\n",
      "22/22 [==============================] - 7s 326ms/step - loss: 4.9218 - accuracy: 0.0329 - val_loss: 4.8491 - val_accuracy: 0.0425\n",
      "Epoch 12/50\n",
      "22/22 [==============================] - 7s 326ms/step - loss: 4.8416 - accuracy: 0.0355 - val_loss: 4.8085 - val_accuracy: 0.0440\n",
      "Epoch 13/50\n",
      "22/22 [==============================] - 7s 329ms/step - loss: 4.7739 - accuracy: 0.0443 - val_loss: 4.7285 - val_accuracy: 0.0524\n",
      "Epoch 14/50\n",
      "22/22 [==============================] - 7s 322ms/step - loss: 4.7070 - accuracy: 0.0479 - val_loss: 4.5907 - val_accuracy: 0.0645\n",
      "Epoch 15/50\n",
      "22/22 [==============================] - 7s 316ms/step - loss: 4.6093 - accuracy: 0.0555 - val_loss: 4.5017 - val_accuracy: 0.0801\n",
      "Epoch 16/50\n",
      "22/22 [==============================] - 7s 317ms/step - loss: 4.5124 - accuracy: 0.0675 - val_loss: 4.4490 - val_accuracy: 0.0782\n",
      "Epoch 17/50\n",
      "22/22 [==============================] - 7s 318ms/step - loss: 4.4411 - accuracy: 0.0774 - val_loss: 4.4286 - val_accuracy: 0.0826\n",
      "Epoch 18/50\n",
      "22/22 [==============================] - 7s 319ms/step - loss: 4.3459 - accuracy: 0.0846 - val_loss: 4.3384 - val_accuracy: 0.0874\n",
      "Epoch 19/50\n",
      "22/22 [==============================] - 7s 322ms/step - loss: 4.3097 - accuracy: 0.0844 - val_loss: 4.2457 - val_accuracy: 0.1072\n",
      "Epoch 20/50\n",
      "22/22 [==============================] - 7s 325ms/step - loss: 4.2011 - accuracy: 0.0992 - val_loss: 4.2097 - val_accuracy: 0.1070\n",
      "Epoch 21/50\n",
      "22/22 [==============================] - 7s 333ms/step - loss: 4.1170 - accuracy: 0.1042 - val_loss: 4.1525 - val_accuracy: 0.1170\n",
      "Epoch 22/50\n",
      "22/22 [==============================] - 7s 319ms/step - loss: 4.0815 - accuracy: 0.1111 - val_loss: 4.0721 - val_accuracy: 0.1302\n",
      "Epoch 23/50\n",
      "22/22 [==============================] - 7s 319ms/step - loss: 3.9993 - accuracy: 0.1272 - val_loss: 4.0104 - val_accuracy: 0.1356\n",
      "Epoch 24/50\n",
      "22/22 [==============================] - 7s 318ms/step - loss: 3.9315 - accuracy: 0.1281 - val_loss: 3.9848 - val_accuracy: 0.1362\n",
      "Epoch 25/50\n",
      "22/22 [==============================] - 7s 319ms/step - loss: 3.8513 - accuracy: 0.1406 - val_loss: 3.9276 - val_accuracy: 0.1463\n",
      "Epoch 26/50\n",
      "22/22 [==============================] - 7s 318ms/step - loss: 3.7914 - accuracy: 0.1537 - val_loss: 3.9864 - val_accuracy: 0.1357\n",
      "Epoch 27/50\n",
      "22/22 [==============================] - 7s 319ms/step - loss: 3.7190 - accuracy: 0.1574 - val_loss: 3.8869 - val_accuracy: 0.1500\n",
      "Epoch 28/50\n",
      "22/22 [==============================] - 7s 318ms/step - loss: 3.6607 - accuracy: 0.1702 - val_loss: 3.8326 - val_accuracy: 0.1552\n",
      "Epoch 29/50\n",
      "22/22 [==============================] - 7s 319ms/step - loss: 3.6436 - accuracy: 0.1688 - val_loss: 3.7709 - val_accuracy: 0.1691\n",
      "Epoch 30/50\n",
      "22/22 [==============================] - 7s 319ms/step - loss: 3.5433 - accuracy: 0.1889 - val_loss: 3.7138 - val_accuracy: 0.1783\n",
      "Epoch 31/50\n",
      "22/22 [==============================] - 7s 319ms/step - loss: 3.5043 - accuracy: 0.1889 - val_loss: 3.7123 - val_accuracy: 0.1782\n",
      "Epoch 32/50\n",
      "22/22 [==============================] - 7s 319ms/step - loss: 3.4679 - accuracy: 0.1925 - val_loss: 3.6685 - val_accuracy: 0.1851\n",
      "Epoch 33/50\n",
      "22/22 [==============================] - 7s 319ms/step - loss: 3.4015 - accuracy: 0.2129 - val_loss: 3.6118 - val_accuracy: 0.1924\n",
      "Epoch 34/50\n",
      "22/22 [==============================] - 7s 318ms/step - loss: 3.3662 - accuracy: 0.2172 - val_loss: 3.7094 - val_accuracy: 0.1737\n",
      "Epoch 35/50\n",
      "22/22 [==============================] - 7s 319ms/step - loss: 3.3030 - accuracy: 0.2245 - val_loss: 3.5983 - val_accuracy: 0.1952\n",
      "Epoch 36/50\n",
      "22/22 [==============================] - 7s 318ms/step - loss: 3.2607 - accuracy: 0.2253 - val_loss: 3.6278 - val_accuracy: 0.1908\n",
      "Epoch 37/50\n",
      "22/22 [==============================] - 7s 318ms/step - loss: 3.2293 - accuracy: 0.2348 - val_loss: 3.5665 - val_accuracy: 0.1948\n",
      "Epoch 38/50\n",
      "22/22 [==============================] - 7s 318ms/step - loss: 3.1523 - accuracy: 0.2445 - val_loss: 3.4661 - val_accuracy: 0.2212\n",
      "Epoch 39/50\n",
      "22/22 [==============================] - 7s 320ms/step - loss: 3.1286 - accuracy: 0.2525 - val_loss: 3.4879 - val_accuracy: 0.2117\n",
      "Epoch 40/50\n",
      "22/22 [==============================] - 7s 319ms/step - loss: 3.0823 - accuracy: 0.2628 - val_loss: 3.4305 - val_accuracy: 0.2222\n",
      "Epoch 41/50\n",
      "22/22 [==============================] - 7s 319ms/step - loss: 3.0404 - accuracy: 0.2682 - val_loss: 3.3850 - val_accuracy: 0.2278\n",
      "Epoch 42/50\n",
      "22/22 [==============================] - 7s 320ms/step - loss: 2.9618 - accuracy: 0.2866 - val_loss: 3.4416 - val_accuracy: 0.2206\n",
      "Epoch 43/50\n",
      "22/22 [==============================] - 7s 319ms/step - loss: 2.9521 - accuracy: 0.2807 - val_loss: 3.4765 - val_accuracy: 0.2118\n",
      "Epoch 44/50\n",
      "22/22 [==============================] - 7s 320ms/step - loss: 2.9043 - accuracy: 0.2861 - val_loss: 3.4752 - val_accuracy: 0.2143\n",
      "Epoch 45/50\n",
      "22/22 [==============================] - 7s 322ms/step - loss: 2.8855 - accuracy: 0.2954 - val_loss: 3.4224 - val_accuracy: 0.2255\n",
      "Epoch 46/50\n",
      "22/22 [==============================] - 7s 319ms/step - loss: 2.8795 - accuracy: 0.2932 - val_loss: 3.3936 - val_accuracy: 0.2280\n",
      "Epoch 47/50\n",
      "22/22 [==============================] - 7s 319ms/step - loss: 2.7726 - accuracy: 0.3120 - val_loss: 3.3428 - val_accuracy: 0.2387\n",
      "Epoch 48/50\n",
      "22/22 [==============================] - 7s 319ms/step - loss: 2.7559 - accuracy: 0.3172 - val_loss: 3.3847 - val_accuracy: 0.2318\n",
      "Epoch 49/50\n",
      "22/22 [==============================] - 7s 319ms/step - loss: 2.7275 - accuracy: 0.3245 - val_loss: 3.3466 - val_accuracy: 0.2328\n",
      "Epoch 50/50\n",
      "22/22 [==============================] - 7s 320ms/step - loss: 2.6909 - accuracy: 0.3275 - val_loss: 3.3160 - val_accuracy: 0.2464\n",
      "252/252 [==============================] - 2s 9ms/step - loss: 3.3160 - accuracy: 0.2464\n",
      "Accuracy: 24.64%\n",
      "done\n"
     ]
    },
    {
     "data": {
      "image/png": "[encoded data removed]",
      "text/plain": [
       "<Figure size 432x288 with 1 Axes>"
      ]
     },
     "metadata": {
      "needs_background": "light"
     },
     "output_type": "display_data"
    },
    {
     "data": {
      "image/png": "[encoded data removed]",
      "text/plain": [
       "<Figure size 432x288 with 1 Axes>"
      ]
     },
     "metadata": {
      "needs_background": "light"
     },
     "output_type": "display_data"
    }
   ],
   "source": [
    "history = model.fit(X_Train, y_train, validation_data=(X_Test, y_test), epochs=epochs, batch_size=384)#64 #32 ---> 64 ~30%\n",
    "# Final evaluation of the model\n",
    "scores = model.evaluate(X_Test, y_test)\n",
    "print(\"Accuracy: %.2f%%\" % (scores[1]*100))\n",
    "\n",
    "print(\"done\")\n",
    "\n",
    "plt.plot(history.history['accuracy'], label='train_acc')\n",
    "plt.plot(history.history['val_accuracy'], label='test_acc')\n",
    "plt.legend()\n",
    "plt.show()\n",
    "\n",
    "plt.plot(history.history['loss'], label='train_loss')\n",
    "plt.plot(history.history['val_loss'], label='test_loss')\n",
    "plt.legend()\n",
    "plt.show()"
   ]
  },
  {
   "cell_type": "markdown",
   "id": "trained-biology",
   "metadata": {},
   "source": [
    "## These are the values for 35 epochs"
   ]
  },
  {
   "cell_type": "code",
   "execution_count": 390,
   "id": "contemporary-stand",
   "metadata": {
    "scrolled": false
   },
   "outputs": [
    {
     "name": "stdout",
     "output_type": "stream",
     "text": [
      "Epoch 1/35\n",
      "255/255 [==============================] - 11s 39ms/step - loss: 5.3036 - accuracy: 0.0033 - val_loss: 5.2883 - val_accuracy: 0.0050\n",
      "Epoch 2/35\n",
      "255/255 [==============================] - 10s 37ms/step - loss: 5.2999 - accuracy: 0.0050 - val_loss: 5.2510 - val_accuracy: 0.0095\n",
      "Epoch 3/35\n",
      "255/255 [==============================] - 9s 36ms/step - loss: 5.2674 - accuracy: 0.0113 - val_loss: 5.1394 - val_accuracy: 0.0183\n",
      "Epoch 4/35\n",
      "255/255 [==============================] - 9s 36ms/step - loss: 5.1797 - accuracy: 0.0119 - val_loss: 5.0735 - val_accuracy: 0.0238\n",
      "Epoch 5/35\n",
      "255/255 [==============================] - 9s 36ms/step - loss: 5.1050 - accuracy: 0.0200 - val_loss: 4.8792 - val_accuracy: 0.0387\n",
      "Epoch 6/35\n",
      "255/255 [==============================] - 9s 36ms/step - loss: 4.9757 - accuracy: 0.0254 - val_loss: 4.8259 - val_accuracy: 0.0397\n",
      "Epoch 7/35\n",
      "255/255 [==============================] - 9s 36ms/step - loss: 4.8609 - accuracy: 0.0390 - val_loss: 4.6190 - val_accuracy: 0.0622\n",
      "Epoch 8/35\n",
      "255/255 [==============================] - 9s 36ms/step - loss: 4.7317 - accuracy: 0.0439 - val_loss: 4.5421 - val_accuracy: 0.0669\n",
      "Epoch 9/35\n",
      "255/255 [==============================] - 9s 37ms/step - loss: 4.5966 - accuracy: 0.0539 - val_loss: 4.4067 - val_accuracy: 0.0828\n",
      "Epoch 10/35\n",
      "255/255 [==============================] - 9s 36ms/step - loss: 4.5357 - accuracy: 0.0575 - val_loss: 4.2977 - val_accuracy: 0.0869\n",
      "Epoch 11/35\n",
      "255/255 [==============================] - 9s 36ms/step - loss: 4.4223 - accuracy: 0.0697 - val_loss: 4.1947 - val_accuracy: 0.1021\n",
      "Epoch 12/35\n",
      "255/255 [==============================] - 9s 37ms/step - loss: 4.3232 - accuracy: 0.0795 - val_loss: 4.1642 - val_accuracy: 0.0982\n",
      "Epoch 13/35\n",
      "255/255 [==============================] - 9s 37ms/step - loss: 4.2911 - accuracy: 0.0941 - val_loss: 4.1198 - val_accuracy: 0.1088\n",
      "Epoch 14/35\n",
      "255/255 [==============================] - 9s 37ms/step - loss: 4.1862 - accuracy: 0.0996 - val_loss: 4.0425 - val_accuracy: 0.1257\n",
      "Epoch 15/35\n",
      "255/255 [==============================] - 9s 36ms/step - loss: 4.1181 - accuracy: 0.1042 - val_loss: 3.9447 - val_accuracy: 0.1395\n",
      "Epoch 16/35\n",
      "255/255 [==============================] - 9s 37ms/step - loss: 4.0407 - accuracy: 0.1194 - val_loss: 3.8264 - val_accuracy: 0.1505\n",
      "Epoch 17/35\n",
      "255/255 [==============================] - 9s 36ms/step - loss: 3.9618 - accuracy: 0.1286 - val_loss: 3.9300 - val_accuracy: 0.1327\n",
      "Epoch 18/35\n",
      "255/255 [==============================] - 9s 36ms/step - loss: 3.9443 - accuracy: 0.1297 - val_loss: 3.7342 - val_accuracy: 0.1699\n",
      "Epoch 19/35\n",
      "255/255 [==============================] - 9s 37ms/step - loss: 3.8872 - accuracy: 0.1387 - val_loss: 3.7850 - val_accuracy: 0.1623\n",
      "Epoch 20/35\n",
      "255/255 [==============================] - 9s 37ms/step - loss: 3.8379 - accuracy: 0.1432 - val_loss: 3.6256 - val_accuracy: 0.1805\n",
      "Epoch 21/35\n",
      "255/255 [==============================] - 9s 37ms/step - loss: 3.7758 - accuracy: 0.1564 - val_loss: 3.6217 - val_accuracy: 0.1904\n",
      "Epoch 22/35\n",
      "255/255 [==============================] - 9s 37ms/step - loss: 3.7102 - accuracy: 0.1620 - val_loss: 3.5874 - val_accuracy: 0.1884\n",
      "Epoch 23/35\n",
      "255/255 [==============================] - 9s 37ms/step - loss: 3.6916 - accuracy: 0.1675 - val_loss: 3.5334 - val_accuracy: 0.2018\n",
      "Epoch 24/35\n",
      "255/255 [==============================] - 9s 37ms/step - loss: 3.6778 - accuracy: 0.1708 - val_loss: 3.4940 - val_accuracy: 0.2134\n",
      "Epoch 25/35\n",
      "255/255 [==============================] - 9s 36ms/step - loss: 3.6524 - accuracy: 0.1696 - val_loss: 3.5985 - val_accuracy: 0.1906\n",
      "Epoch 26/35\n",
      "255/255 [==============================] - 9s 37ms/step - loss: 3.5536 - accuracy: 0.1810 - val_loss: 3.6542 - val_accuracy: 0.1833\n",
      "Epoch 27/35\n",
      "255/255 [==============================] - 9s 36ms/step - loss: 3.4936 - accuracy: 0.1884 - val_loss: 3.5930 - val_accuracy: 0.1874\n",
      "Epoch 28/35\n",
      "255/255 [==============================] - 9s 36ms/step - loss: 3.5411 - accuracy: 0.1876 - val_loss: 3.5548 - val_accuracy: 0.1960\n",
      "Epoch 29/35\n",
      "255/255 [==============================] - 9s 37ms/step - loss: 3.4407 - accuracy: 0.2063 - val_loss: 3.5325 - val_accuracy: 0.2026\n",
      "Epoch 30/35\n",
      "255/255 [==============================] - 9s 37ms/step - loss: 3.3848 - accuracy: 0.2101 - val_loss: 3.4748 - val_accuracy: 0.2092\n",
      "Epoch 31/35\n",
      "255/255 [==============================] - 9s 37ms/step - loss: 3.3948 - accuracy: 0.2076 - val_loss: 3.5447 - val_accuracy: 0.1974\n",
      "Epoch 32/35\n",
      "255/255 [==============================] - 9s 36ms/step - loss: 3.3588 - accuracy: 0.2210 - val_loss: 3.4089 - val_accuracy: 0.2210\n",
      "Epoch 33/35\n",
      "255/255 [==============================] - 9s 37ms/step - loss: 3.3350 - accuracy: 0.2257 - val_loss: 3.3826 - val_accuracy: 0.2226\n",
      "Epoch 34/35\n",
      "255/255 [==============================] - 9s 36ms/step - loss: 3.2996 - accuracy: 0.2192 - val_loss: 3.3687 - val_accuracy: 0.2349\n",
      "Epoch 35/35\n",
      "255/255 [==============================] - 9s 37ms/step - loss: 3.2514 - accuracy: 0.2351 - val_loss: 3.3540 - val_accuracy: 0.2337\n",
      "252/252 [==============================] - 2s 9ms/step - loss: 3.3540 - accuracy: 0.2337\n",
      "Accuracy: 23.37%\n",
      "done\n"
     ]
    }
   ],
   "source": [
    "\n",
    "history = model.fit(X_Train, y_train, validation_data=(X_Test, y_test), epochs=epochs, batch_size=32)#64 #32 ---> 64 ~30%\n",
    "# Final evaluation of the model\n",
    "scores = model.evaluate(X_Test, y_test)\n",
    "print(\"Accuracy: %.2f%%\" % (scores[1]*100))\n",
    "\n",
    "print(\"done\")"
   ]
  },
  {
   "cell_type": "code",
   "execution_count": 393,
   "id": "clinical-rider",
   "metadata": {},
   "outputs": [
    {
     "data": {
      "image/png": "[encoded data removed]",
      "text/plain": [
       "<Figure size 432x288 with 1 Axes>"
      ]
     },
     "metadata": {
      "needs_background": "light"
     },
     "output_type": "display_data"
    }
   ],
   "source": [
    "\n",
    "plt.plot(history.history['accuracy'], label='train_acc')\n",
    "plt.plot(history.history['val_accuracy'], label='test_acc')\n",
    "plt.legend()\n",
    "plt.show()"
   ]
  },
  {
   "cell_type": "code",
   "execution_count": 394,
   "id": "molecular-block",
   "metadata": {},
   "outputs": [
    {
     "data": {
      "image/png": "[encoded data removed]",
      "text/plain": [
       "<Figure size 432x288 with 1 Axes>"
      ]
     },
     "metadata": {
      "needs_background": "light"
     },
     "output_type": "display_data"
    }
   ],
   "source": [
    "plt.plot(history.history['loss'], label='train_loss')\n",
    "plt.plot(history.history['val_loss'], label='test_loss')\n",
    "plt.legend()\n",
    "plt.show()"
   ]
  },
  {
   "cell_type": "markdown",
   "id": "automated-polymer",
   "metadata": {},
   "source": [
    "## These are the 50 epochs"
   ]
  },
  {
   "cell_type": "code",
   "execution_count": 396,
   "id": "precious-allergy",
   "metadata": {
    "scrolled": false
   },
   "outputs": [
    {
     "name": "stdout",
     "output_type": "stream",
     "text": [
      "Epoch 1/50\n",
      "255/255 [==============================] - 10s 38ms/step - loss: 5.2997 - accuracy: 0.0062 - val_loss: 5.2715 - val_accuracy: 0.0071\n",
      "Epoch 2/50\n",
      "255/255 [==============================] - 9s 37ms/step - loss: 5.2976 - accuracy: 0.0035 - val_loss: 5.2545 - val_accuracy: 0.0076\n",
      "Epoch 3/50\n",
      "255/255 [==============================] - 9s 36ms/step - loss: 5.2632 - accuracy: 0.0082 - val_loss: 5.1703 - val_accuracy: 0.0128\n",
      "Epoch 4/50\n",
      "255/255 [==============================] - 10s 38ms/step - loss: 5.1726 - accuracy: 0.0141 - val_loss: 5.0307 - val_accuracy: 0.0261\n",
      "Epoch 5/50\n",
      "255/255 [==============================] - 10s 38ms/step - loss: 5.0759 - accuracy: 0.0208 - val_loss: 4.9219 - val_accuracy: 0.0343\n",
      "Epoch 6/50\n",
      "255/255 [==============================] - 10s 38ms/step - loss: 4.9473 - accuracy: 0.0282 - val_loss: 4.7418 - val_accuracy: 0.0557\n",
      "Epoch 7/50\n",
      "255/255 [==============================] - 10s 38ms/step - loss: 4.8270 - accuracy: 0.0422 - val_loss: 4.6099 - val_accuracy: 0.0616\n",
      "Epoch 8/50\n",
      "255/255 [==============================] - 10s 38ms/step - loss: 4.7410 - accuracy: 0.0485 - val_loss: 4.4974 - val_accuracy: 0.0732\n",
      "Epoch 9/50\n",
      "255/255 [==============================] - 10s 38ms/step - loss: 4.5874 - accuracy: 0.0581 - val_loss: 4.4051 - val_accuracy: 0.0816\n",
      "Epoch 10/50\n",
      "255/255 [==============================] - 10s 38ms/step - loss: 4.4956 - accuracy: 0.0700 - val_loss: 4.3787 - val_accuracy: 0.0848\n",
      "Epoch 11/50\n",
      "255/255 [==============================] - 10s 38ms/step - loss: 4.4240 - accuracy: 0.0702 - val_loss: 4.2630 - val_accuracy: 0.0963\n",
      "Epoch 12/50\n",
      "255/255 [==============================] - 10s 38ms/step - loss: 4.3405 - accuracy: 0.0868 - val_loss: 4.2056 - val_accuracy: 0.1005\n",
      "Epoch 13/50\n",
      "255/255 [==============================] - 10s 38ms/step - loss: 4.2495 - accuracy: 0.0861 - val_loss: 4.1763 - val_accuracy: 0.1048\n",
      "Epoch 14/50\n",
      "255/255 [==============================] - 10s 38ms/step - loss: 4.1389 - accuracy: 0.1105 - val_loss: 4.0017 - val_accuracy: 0.1272\n",
      "Epoch 15/50\n",
      "255/255 [==============================] - 10s 38ms/step - loss: 4.1177 - accuracy: 0.1115 - val_loss: 4.0992 - val_accuracy: 0.1158\n",
      "Epoch 16/50\n",
      "255/255 [==============================] - 10s 38ms/step - loss: 4.0808 - accuracy: 0.1234 - val_loss: 3.8205 - val_accuracy: 0.1601\n",
      "Epoch 17/50\n",
      "255/255 [==============================] - 10s 38ms/step - loss: 3.9966 - accuracy: 0.1185 - val_loss: 3.8416 - val_accuracy: 0.1571\n",
      "Epoch 18/50\n",
      "255/255 [==============================] - 10s 38ms/step - loss: 3.8958 - accuracy: 0.1379 - val_loss: 3.7646 - val_accuracy: 0.1612\n",
      "Epoch 19/50\n",
      "255/255 [==============================] - 10s 38ms/step - loss: 3.8715 - accuracy: 0.1443 - val_loss: 3.8062 - val_accuracy: 0.1604\n",
      "Epoch 20/50\n",
      "255/255 [==============================] - 10s 38ms/step - loss: 3.7909 - accuracy: 0.1468 - val_loss: 3.7193 - val_accuracy: 0.1744\n",
      "Epoch 21/50\n",
      "255/255 [==============================] - 10s 38ms/step - loss: 3.7749 - accuracy: 0.1572 - val_loss: 3.6922 - val_accuracy: 0.1778\n",
      "Epoch 22/50\n",
      "255/255 [==============================] - 10s 38ms/step - loss: 3.7143 - accuracy: 0.1652 - val_loss: 3.6407 - val_accuracy: 0.1894\n",
      "Epoch 23/50\n",
      "255/255 [==============================] - 10s 39ms/step - loss: 3.6871 - accuracy: 0.1696 - val_loss: 3.6296 - val_accuracy: 0.1928\n",
      "Epoch 24/50\n",
      "255/255 [==============================] - 10s 38ms/step - loss: 3.5964 - accuracy: 0.1780 - val_loss: 3.6465 - val_accuracy: 0.1869\n",
      "Epoch 25/50\n",
      "255/255 [==============================] - 10s 38ms/step - loss: 3.5635 - accuracy: 0.1854 - val_loss: 3.5958 - val_accuracy: 0.1885\n",
      "Epoch 26/50\n",
      "255/255 [==============================] - 10s 38ms/step - loss: 3.5391 - accuracy: 0.1940 - val_loss: 3.5005 - val_accuracy: 0.2108\n",
      "Epoch 27/50\n",
      "255/255 [==============================] - 10s 38ms/step - loss: 3.4922 - accuracy: 0.1914 - val_loss: 3.4963 - val_accuracy: 0.2123\n",
      "Epoch 28/50\n",
      "255/255 [==============================] - 10s 38ms/step - loss: 3.4075 - accuracy: 0.2078 - val_loss: 3.4462 - val_accuracy: 0.2206\n",
      "Epoch 29/50\n",
      "255/255 [==============================] - 10s 38ms/step - loss: 3.4333 - accuracy: 0.2074 - val_loss: 3.5521 - val_accuracy: 0.2028\n",
      "Epoch 30/50\n",
      "255/255 [==============================] - 10s 38ms/step - loss: 3.3943 - accuracy: 0.2142 - val_loss: 3.5410 - val_accuracy: 0.2007\n",
      "Epoch 31/50\n",
      "255/255 [==============================] - 10s 38ms/step - loss: 3.3548 - accuracy: 0.2224 - val_loss: 3.4926 - val_accuracy: 0.2113\n",
      "Epoch 32/50\n",
      "255/255 [==============================] - 10s 39ms/step - loss: 3.3942 - accuracy: 0.2168 - val_loss: 3.3762 - val_accuracy: 0.2270\n",
      "Epoch 33/50\n",
      "255/255 [==============================] - 10s 38ms/step - loss: 3.3219 - accuracy: 0.2243 - val_loss: 3.4272 - val_accuracy: 0.2205\n",
      "Epoch 34/50\n",
      "255/255 [==============================] - 10s 38ms/step - loss: 3.2600 - accuracy: 0.2331 - val_loss: 3.4893 - val_accuracy: 0.2163\n",
      "Epoch 35/50\n",
      "255/255 [==============================] - 10s 40ms/step - loss: 3.2441 - accuracy: 0.2341 - val_loss: 3.3065 - val_accuracy: 0.2394\n",
      "Epoch 36/50\n",
      "255/255 [==============================] - 10s 39ms/step - loss: 3.2875 - accuracy: 0.2297 - val_loss: 3.3364 - val_accuracy: 0.2429\n",
      "Epoch 37/50\n",
      "255/255 [==============================] - 10s 38ms/step - loss: 3.2253 - accuracy: 0.2393 - val_loss: 3.4496 - val_accuracy: 0.2201\n",
      "Epoch 38/50\n",
      "255/255 [==============================] - 10s 38ms/step - loss: 3.1669 - accuracy: 0.2418 - val_loss: 3.4331 - val_accuracy: 0.2235\n",
      "Epoch 39/50\n",
      "255/255 [==============================] - 10s 38ms/step - loss: 3.1384 - accuracy: 0.2553 - val_loss: 3.3020 - val_accuracy: 0.2455\n",
      "Epoch 40/50\n",
      "255/255 [==============================] - 10s 38ms/step - loss: 3.1246 - accuracy: 0.2530 - val_loss: 3.2958 - val_accuracy: 0.2435\n",
      "Epoch 41/50\n",
      "255/255 [==============================] - 10s 38ms/step - loss: 3.1343 - accuracy: 0.2570 - val_loss: 3.3237 - val_accuracy: 0.2395\n",
      "Epoch 42/50\n",
      "255/255 [==============================] - 10s 38ms/step - loss: 3.0782 - accuracy: 0.2635 - val_loss: 3.2643 - val_accuracy: 0.2542\n",
      "Epoch 43/50\n",
      "255/255 [==============================] - 10s 38ms/step - loss: 3.0510 - accuracy: 0.2706 - val_loss: 3.3271 - val_accuracy: 0.2461\n",
      "Epoch 44/50\n",
      "255/255 [==============================] - 10s 38ms/step - loss: 3.0785 - accuracy: 0.2707 - val_loss: 3.3190 - val_accuracy: 0.2447\n",
      "Epoch 45/50\n",
      "255/255 [==============================] - 10s 38ms/step - loss: 2.9968 - accuracy: 0.2836 - val_loss: 3.2431 - val_accuracy: 0.2521\n",
      "Epoch 46/50\n",
      "255/255 [==============================] - 10s 37ms/step - loss: 3.0259 - accuracy: 0.2716 - val_loss: 3.2253 - val_accuracy: 0.2562\n",
      "Epoch 47/50\n",
      "255/255 [==============================] - 10s 38ms/step - loss: 2.9779 - accuracy: 0.2890 - val_loss: 3.2018 - val_accuracy: 0.2604\n",
      "Epoch 48/50\n",
      "255/255 [==============================] - 10s 38ms/step - loss: 2.9542 - accuracy: 0.2784 - val_loss: 3.2755 - val_accuracy: 0.2491\n",
      "Epoch 49/50\n",
      "255/255 [==============================] - 10s 38ms/step - loss: 2.9428 - accuracy: 0.2863 - val_loss: 3.2198 - val_accuracy: 0.2593\n",
      "Epoch 50/50\n",
      "255/255 [==============================] - 10s 38ms/step - loss: 2.9158 - accuracy: 0.2956 - val_loss: 3.2335 - val_accuracy: 0.2559\n",
      "252/252 [==============================] - 2s 9ms/step - loss: 3.2335 - accuracy: 0.2559\n",
      "Accuracy: 25.59%\n",
      "done\n"
     ]
    }
   ],
   "source": [
    "history = model.fit(X_Train, y_train, validation_data=(X_Test, y_test), epochs=epochs, batch_size=32)#64 #32 ---> 64 ~30%\n",
    "# Final evaluation of the model\n",
    "scores = model.evaluate(X_Test, y_test)\n",
    "print(\"Accuracy: %.2f%%\" % (scores[1]*100))\n",
    "\n",
    "print(\"done\")"
   ]
  },
  {
   "cell_type": "code",
   "execution_count": 397,
   "id": "previous-southeast",
   "metadata": {},
   "outputs": [
    {
     "data": {
      "image/png": "[encoded data removed]",
      "text/plain": [
       "<Figure size 432x288 with 1 Axes>"
      ]
     },
     "metadata": {
      "needs_background": "light"
     },
     "output_type": "display_data"
    }
   ],
   "source": [
    "plt.plot(history.history['accuracy'], label='train_acc')\n",
    "plt.plot(history.history['val_accuracy'], label='test_acc')\n",
    "plt.legend()\n",
    "plt.show()"
   ]
  },
  {
   "cell_type": "code",
   "execution_count": 398,
   "id": "extraordinary-polls",
   "metadata": {},
   "outputs": [
    {
     "data": {
      "image/png": "[encoded data removed]",
      "text/plain": [
       "<Figure size 432x288 with 1 Axes>"
      ]
     },
     "metadata": {
      "needs_background": "light"
     },
     "output_type": "display_data"
    }
   ],
   "source": [
    "plt.plot(history.history['loss'], label='train_loss')\n",
    "plt.plot(history.history['val_loss'], label='test_loss')\n",
    "plt.legend()\n",
    "plt.show()"
   ]
  },
  {
   "cell_type": "markdown",
   "id": "handled-construction",
   "metadata": {},
   "source": [
    "## These are needed if you have not croped the images into a folder"
   ]
  },
  {
   "cell_type": "code",
   "execution_count": null,
   "id": "executive-republican",
   "metadata": {},
   "outputs": [],
   "source": [
    "def bounding_box(i):\n",
    "    #for o in mat_train_annos:\n",
    "    xmin = mat_train_annos[i][0][0][0] # xmin\n",
    "    ymin = mat_train_annos[i][1][0][0] # ymin\n",
    "    xmax = mat_train_annos[i][2][0][0] # xmax\n",
    "    ymax = mat_train_annos[i][3][0][0] # ymax\n",
    "    return (xmin,ymin,xmax,ymax)"
   ]
  },
  {
   "cell_type": "code",
   "execution_count": null,
   "id": "supreme-heath",
   "metadata": {},
   "outputs": [],
   "source": [
    "#croped_training_data = []\n",
    "\n",
    "for i,image in enumerate(os.listdir(\"D:/car_devkit/cars_train\")):\n",
    "    bbox=bounding_box(i)\n",
    "    im=Image.open(os.path.join(\"D:/car_devkit/cars_train\",image))\n",
    "    im=im.crop(bbox)\n",
    "    im.save(\"D:/car_devkit/croped_train/\"+ image, 'JPEG')\n",
    "    #croped_training_data.append([im, image])  \n",
    "    "
   ]
  },
  {
   "cell_type": "code",
   "execution_count": 6,
   "id": "boxed-lounge",
   "metadata": {},
   "outputs": [],
   "source": [
    "def bounding_box_test(i):\n",
    "    #for o in mat_train_annos:\n",
    "    xmin = mat_test_annos[i][0][0][0] # xmin\n",
    "    ymin = mat_test_annos[i][1][0][0] # ymin\n",
    "    xmax = mat_test_annos[i][2][0][0] # xmax\n",
    "    ymax = mat_test_annos[i][3][0][0] # ymax\n",
    "    return (xmin,ymin,xmax,ymax)"
   ]
  },
  {
   "cell_type": "code",
   "execution_count": 8,
   "id": "integral-latino",
   "metadata": {},
   "outputs": [],
   "source": [
    "#croped_test_data = []\n",
    "\n",
    "for i,image in enumerate(os.listdir(\"D:/car_devkit/cars_test\")):\n",
    "    bbox=bounding_box_test(i)\n",
    "    im=Image.open(os.path.join(\"D:/car_devkit/cars_test\",image))\n",
    "    im=im.crop(bbox)\n",
    "    im.save(\"D:/car_devkit/croped_test/\"+ image, 'JPEG')\n",
    "    #croped_test_data.append([im, image])  \n",
    "    "
   ]
  }
 ],
 "metadata": {
  "kernelspec": {
   "display_name": "tensorflow with gpu p3.8",
   "language": "python",
   "name": "gputensorflow"
  },
  "language_info": {
   "codemirror_mode": {
    "name": "ipython",
    "version": 3
   },
   "file_extension": ".py",
   "mimetype": "text/x-python",
   "name": "python",
   "nbconvert_exporter": "python",
   "pygments_lexer": "ipython3",
   "version": "3.8.8"
  }
 },
 "nbformat": 4,
 "nbformat_minor": 5
}
